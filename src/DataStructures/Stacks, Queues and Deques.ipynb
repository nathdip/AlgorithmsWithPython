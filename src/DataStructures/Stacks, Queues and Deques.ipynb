{
 "cells": [
  {
   "cell_type": "markdown",
   "metadata": {},
   "source": [
    "### Stacks Overview\n",
    "\n",
    "- A stack is an ordered collection of items where the addition of new items and the removal of existing items always takes place at the same end\n",
    "- The end is commonly referred to as the \"top\".\n",
    "- The end opposite the top is known as the base."
   ]
  },
  {
   "cell_type": "markdown",
   "metadata": {},
   "source": [
    "- Items at the  base of the stack is important as those near the bottom have been the longest in the stack.\n",
    "- The most recently added item is in the position where it is likely to be removed first."
   ]
  },
  {
   "cell_type": "markdown",
   "metadata": {},
   "source": [
    "- This ordering principle is called the last in first out or LIFO principle\n",
    "- It provides an ordering based on the length of time in the collection\n",
    "- Newer items are near the top and older items near the bottom."
   ]
  },
  {
   "cell_type": "code",
   "execution_count": null,
   "metadata": {},
   "outputs": [],
   "source": []
  }
 ],
 "metadata": {
  "kernelspec": {
   "display_name": "Python 3",
   "language": "python",
   "name": "python3"
  },
  "language_info": {
   "codemirror_mode": {
    "name": "ipython",
    "version": 3
   },
   "file_extension": ".py",
   "mimetype": "text/x-python",
   "name": "python",
   "nbconvert_exporter": "python",
   "pygments_lexer": "ipython3",
   "version": "3.6.5"
  }
 },
 "nbformat": 4,
 "nbformat_minor": 2
}
