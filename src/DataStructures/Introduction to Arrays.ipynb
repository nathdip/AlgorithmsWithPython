{
 "cells": [
  {
   "cell_type": "markdown",
   "metadata": {},
   "source": [
    "### Python arrays\n",
    "Python has three different array types:\n",
    "    - Lists\n",
    "    - Tuples\n",
    "    - Strings"
   ]
  },
  {
   "cell_type": "markdown",
   "metadata": {},
   "source": [
    "### Low level arrays"
   ]
  },
  {
   "cell_type": "markdown",
   "metadata": {},
   "source": [
    "- Memory of a computer is stored in bits\n",
    "- Typical unit is a byte, 8 bits = 1 byte\n",
    "- Computer hardware is designed in theory so that any byte of the main memory can be efficietnly accessed.\n",
    "- Common task keep track of a list of numbers\n",
    "    - This can be stored as an array\n",
    "    - In python an unicode character is stored by  2 bytes i.e. 16 bits"
   ]
  },
  {
   "cell_type": "markdown",
   "metadata": {},
   "source": [
    "- Each cell of an arry uses the same number of bytes\n",
    "- Allows any cell to be accessed in constant time.\n",
    "\n",
    "### Referential array\n",
    "\n",
    "- Imagine 100 students name with ID numbers.\n",
    "- Use array to represent this number.\n",
    "- Each cell of the array needs to have the same number of bytes.\n",
    "    - How can we avoid having to have a series of names?\n",
    "    - Construct a referential array, each element is a reference of object."
   ]
  },
  {
   "cell_type": "code",
   "execution_count": 1,
   "metadata": {},
   "outputs": [],
   "source": [
    "counters = [0]*8"
   ]
  },
  {
   "cell_type": "markdown",
   "metadata": {},
   "source": [
    "In all the indices reference to the same memory location containing the value 0"
   ]
  },
  {
   "cell_type": "markdown",
   "metadata": {},
   "source": [
    "### Dynamic array"
   ]
  },
  {
   "cell_type": "markdown",
   "metadata": {},
   "source": [
    "In python one does not need to mention the size of the list. In Python we always have some extra room. Let us find out!"
   ]
  },
  {
   "cell_type": "code",
   "execution_count": 2,
   "metadata": {},
   "outputs": [],
   "source": [
    "import sys"
   ]
  },
  {
   "cell_type": "code",
   "execution_count": 5,
   "metadata": {},
   "outputs": [
    {
     "name": "stdout",
     "output_type": "stream",
     "text": [
      "Length:   0; Size in bytes: 64\n",
      "Length:   1; Size in bytes: 96\n",
      "Length:   2; Size in bytes: 96\n",
      "Length:   3; Size in bytes: 96\n",
      "Length:   4; Size in bytes: 96\n",
      "Length:   5; Size in bytes: 128\n",
      "Length:   6; Size in bytes: 128\n",
      "Length:   7; Size in bytes: 128\n",
      "Length:   8; Size in bytes: 128\n",
      "Length:   9; Size in bytes: 192\n"
     ]
    }
   ],
   "source": [
    "#empty list\n",
    "data = []\n",
    "\n",
    "#set n\n",
    "n = 10\n",
    "\n",
    "for i in range(n):\n",
    "    a = len(data)\n",
    "    \n",
    "    #get actual size in bytes\n",
    "    b = sys.getsizeof(data)\n",
    "    \n",
    "    print(f\"Length: {a:3}; Size in bytes: {b}\")\n",
    "    \n",
    "    data.append(i)"
   ]
  },
  {
   "cell_type": "markdown",
   "metadata": {},
   "source": [
    "We can see that the memory usage increases in jumps, so that the memory usage does not need to be increased every time an item is append."
   ]
  },
  {
   "cell_type": "markdown",
   "metadata": {},
   "source": [
    "### Dynamic array implementation\n",
    "- Key is to provide a means to grow an array\n",
    "    - Allocate a new array B with larger capacity\n",
    "    - Set B[i] = A[i], for i = 0, ..., n-1 where n denotes current number of items\n",
    "    - Set A = B, i.e. we use B as the array supporting a list\n",
    "    - Insert the new element in the array"
   ]
  },
  {
   "cell_type": "markdown",
   "metadata": {},
   "source": [
    "### Dynamic array implementation"
   ]
  },
  {
   "cell_type": "code",
   "execution_count": 17,
   "metadata": {},
   "outputs": [],
   "source": [
    "import ctypes\n",
    "\n",
    "class DynamicArray(object):\n",
    "    \n",
    "    \n",
    "    def __init__(self):\n",
    "        self.n = 0 # initial size of array\n",
    "        self.capacity = 1 #initial capacity\n",
    "        self.A = self.make_array(self.capacity)\n",
    "        \n",
    "    def __len__(self):\n",
    "        return self.n\n",
    "    \n",
    "    def __getitem__(self, k):\n",
    "        if not(0 <= k <= self.n):\n",
    "            return IndexError(f'Index {k} is out of bounds!')\n",
    "        return self.A[k]\n",
    "    \n",
    "    def append(self, ele):\n",
    "        if self.n == self.capacity:\n",
    "            self._resize(2*self.capacity) # Double capacity in case the capacity is not enough\n",
    "        self.A[self.n] = ele\n",
    "        self.n+=1\n",
    "        \n",
    "    def _resize(self, new_cap):\n",
    "        B = self.make_array(new_cap)\n",
    "        for k in range(self.n):\n",
    "            B[k] = self.A[k]\n",
    "        self.A = B\n",
    "        self.capacity = new_cap\n",
    "        \n",
    "    def make_array(self, new_cap):\n",
    "        return (new_cap*ctypes.py_object)()\n",
    "        "
   ]
  },
  {
   "cell_type": "code",
   "execution_count": 18,
   "metadata": {},
   "outputs": [],
   "source": [
    "arr = DynamicArray()"
   ]
  },
  {
   "cell_type": "code",
   "execution_count": 19,
   "metadata": {},
   "outputs": [],
   "source": [
    "arr.append(1)"
   ]
  },
  {
   "cell_type": "code",
   "execution_count": 20,
   "metadata": {},
   "outputs": [
    {
     "data": {
      "text/plain": [
       "1"
      ]
     },
     "execution_count": 20,
     "metadata": {},
     "output_type": "execute_result"
    }
   ],
   "source": [
    "len(arr)"
   ]
  },
  {
   "cell_type": "code",
   "execution_count": 21,
   "metadata": {},
   "outputs": [],
   "source": [
    "arr.append(2)"
   ]
  },
  {
   "cell_type": "code",
   "execution_count": 22,
   "metadata": {},
   "outputs": [
    {
     "data": {
      "text/plain": [
       "2"
      ]
     },
     "execution_count": 22,
     "metadata": {},
     "output_type": "execute_result"
    }
   ],
   "source": [
    "len(arr)"
   ]
  },
  {
   "cell_type": "code",
   "execution_count": 23,
   "metadata": {},
   "outputs": [
    {
     "data": {
      "text/plain": [
       "1"
      ]
     },
     "execution_count": 23,
     "metadata": {},
     "output_type": "execute_result"
    }
   ],
   "source": [
    "arr[0]"
   ]
  },
  {
   "cell_type": "code",
   "execution_count": null,
   "metadata": {},
   "outputs": [],
   "source": []
  }
 ],
 "metadata": {
  "kernelspec": {
   "display_name": "Python 3",
   "language": "python",
   "name": "python3"
  },
  "language_info": {
   "codemirror_mode": {
    "name": "ipython",
    "version": 3
   },
   "file_extension": ".py",
   "mimetype": "text/x-python",
   "name": "python",
   "nbconvert_exporter": "python",
   "pygments_lexer": "ipython3",
   "version": "3.6.5"
  }
 },
 "nbformat": 4,
 "nbformat_minor": 2
}
