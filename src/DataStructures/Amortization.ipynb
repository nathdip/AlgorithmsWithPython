{
 "cells": [
  {
   "cell_type": "markdown",
   "metadata": {},
   "source": [
    "### Amortization\n",
    "\n",
    "- The procedure of adding additional memory once the array capacity is almost breached might seem like slowing down the process of building arrays.\n",
    "- A single append operation might require $O\\left(n\\right)$ time to perform\n",
    "- Our new array allows us to add $n$ new elements before the array must be replaced (or capacity increased)"
   ]
  },
  {
   "cell_type": "markdown",
   "metadata": {},
   "source": [
    "Amortization is an algorithmic analysis to understand the way algorithm occurs:"
   ]
  },
  {
   "cell_type": "markdown",
   "metadata": {},
   "source": [
    "### Amortized analysis\n",
    "- Allocate memory for a larger array of size typically twice the older array\n",
    "- Copy the contents of old array to new array\n",
    "- Free the old array"
   ]
  },
  {
   "cell_type": "markdown",
   "metadata": {},
   "source": []
  }
 ],
 "metadata": {
  "kernelspec": {
   "display_name": "Python 3",
   "language": "python",
   "name": "python3"
  },
  "language_info": {
   "codemirror_mode": {
    "name": "ipython",
    "version": 3
   },
   "file_extension": ".py",
   "mimetype": "text/x-python",
   "name": "python",
   "nbconvert_exporter": "python",
   "pygments_lexer": "ipython3",
   "version": "3.6.5"
  }
 },
 "nbformat": 4,
 "nbformat_minor": 2
}
