{
 "cells": [
  {
   "cell_type": "markdown",
   "metadata": {},
   "source": [
    "### Amortization\n",
    "\n",
    "- The procedure of adding additional memory once the array capacity is almost breached might seem like slowing down the process of building arrays.\n",
    "- A single append operation might require $O\\left(n\\right)$ time to perform\n",
    "- Our new array allows us to add $n$ new elements before the array must be replaced (or capacity increased)"
   ]
  },
  {
   "cell_type": "markdown",
   "metadata": {},
   "source": [
    "Amortization is an algorithmic analysis to understand the way algorithm occurs:"
   ]
  },
  {
   "cell_type": "markdown",
   "metadata": {},
   "source": [
    "### Amortized analysis\n",
    "- Allocate memory for a larger array of size typically twice the older array\n",
    "- Copy the contents of old array to new array\n",
    "- Free the old array"
   ]
  },
  {
   "cell_type": "markdown",
   "metadata": {},
   "source": [
    "Performing a sequence of such operations are actually quite efficient."
   ]
  },
  {
   "cell_type": "markdown",
   "metadata": {},
   "source": [
    "| Item No   | 1 | 2 | 3 | 4 | 5 | 6 | 7 | 8 | 9  | 10 |\n",
    "|:------:|:-:|:-:| \n",
    "| Table size| 1 | 2 | 4 | 4 | 8 | 8 | 8 | 8 | 16 | 16 |\n",
    "| Cost      | 1 | 2 | 3 | 1 | 5 | 1 | 1 | 1 |  9 |  1 |\n",
    "\n",
    "Amortized Cost =  $\\frac{1+2+3+1+5+1+1+1+9+1+...}{n}$\n",
    "\n",
    "We can break down terms $2, 3, 5, 9 ...$ as $\\left(1+1\\right), \\left(1+2\\right), \\left(1+4\\right)...$ etc.\n",
    "\n",
    "\\begin{equation}\n",
    "\\text{Amortized Cost} = \\frac{\\left(1+1+1+1+...\\right)+\\left(1+2+4+8+...\\right)}{n}\\\\\n",
    " <= \\frac{n+2n}{n} = 3\n",
    "\\end{equation}"
   ]
  },
  {
   "cell_type": "markdown",
   "metadata": {},
   "source": [
    "Amortized cost = $O\\left(1\\right)$"
   ]
  },
  {
   "cell_type": "code",
   "execution_count": null,
   "metadata": {},
   "outputs": [],
   "source": []
  }
 ],
 "metadata": {
  "kernelspec": {
   "display_name": "Python 3",
   "language": "python",
   "name": "python3"
  },
  "language_info": {
   "codemirror_mode": {
    "name": "ipython",
    "version": 3
   },
   "file_extension": ".py",
   "mimetype": "text/x-python",
   "name": "python",
   "nbconvert_exporter": "python",
   "pygments_lexer": "ipython3",
   "version": "3.6.5"
  }
 },
 "nbformat": 4,
 "nbformat_minor": 2
}
