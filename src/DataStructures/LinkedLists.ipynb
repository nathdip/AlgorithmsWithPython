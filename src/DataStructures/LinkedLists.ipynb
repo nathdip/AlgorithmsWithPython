{
 "cells": [
  {
   "cell_type": "markdown",
   "metadata": {},
   "source": [
    "### Linked Lists"
   ]
  },
  {
   "cell_type": "markdown",
   "metadata": {},
   "source": [
    "### Singly Linked Lists"
   ]
  },
  {
   "cell_type": "markdown",
   "metadata": {},
   "source": [
    "- Singly linked list in its simplest form is a collection of nodes that collectively form a linear sequence\n",
    "- Each nodes stores a reference to an object that is an element of the sequence, as well as a reference to the next node in the list."
   ]
  },
  {
   "cell_type": "markdown",
   "metadata": {},
   "source": [
    "- The list instance maintains a member named head that identifies the first node of the list\n",
    "- In some applications another member named tail that identifis the last node of the list."
   ]
  },
  {
   "cell_type": "markdown",
   "metadata": {},
   "source": [
    "- We can identify the tail as the node having None as its next reference\n",
    "- If we go from the head to the tail this process is commonly known as traversing the linked list, also called link hopping or pointer hopping.\n",
    "- Each node is represented as a unique object, with that instance storing a reference to its element and a reference to the next node (or None)\n"
   ]
  },
  {
   "cell_type": "markdown",
   "metadata": {},
   "source": [
    "- An important property of a linked list is that it does not have a pre determined fixed size.\n",
    "- It uses space proportionally to its current number of elements.\n",
    "- To insert a new element at the head of the list:\n",
    "    - We create a new node\n",
    "    - Set its element to the new element.\n",
    "    - Set its link to refer to the current head.\n",
    "    - then set the lists head to point to the new node.\n",
    "- We can also insert a new element at the tail of the linked list\n",
    "    - Create a new node\n",
    "    - Assign its next reference to None\n",
    "    - Set the next reference of the tail to point to this new node\n",
    "    - Then update the tail reference itself to this new node."
   ]
  },
  {
   "cell_type": "markdown",
   "metadata": {},
   "source": [
    "### Singly Linked List"
   ]
  },
  {
   "cell_type": "code",
   "execution_count": 9,
   "metadata": {},
   "outputs": [],
   "source": [
    "class Node(object):\n",
    "    \n",
    "    def __init__(self, value):\n",
    "        \n",
    "        self.value = value\n",
    "        self.nextnode = None"
   ]
  },
  {
   "cell_type": "code",
   "execution_count": 10,
   "metadata": {},
   "outputs": [],
   "source": [
    "a = Node(1)\n",
    "b = Node(2)\n",
    "c = Node(3)"
   ]
  },
  {
   "cell_type": "code",
   "execution_count": 11,
   "metadata": {},
   "outputs": [],
   "source": [
    "a.nextnode = b\n",
    "b.nextnode = c"
   ]
  },
  {
   "cell_type": "code",
   "execution_count": 12,
   "metadata": {},
   "outputs": [
    {
     "data": {
      "text/plain": [
       "1"
      ]
     },
     "execution_count": 12,
     "metadata": {},
     "output_type": "execute_result"
    }
   ],
   "source": [
    "a.value"
   ]
  },
  {
   "cell_type": "code",
   "execution_count": 15,
   "metadata": {},
   "outputs": [
    {
     "data": {
      "text/plain": [
       "2"
      ]
     },
     "execution_count": 15,
     "metadata": {},
     "output_type": "execute_result"
    }
   ],
   "source": [
    "a.nextnode.value"
   ]
  },
  {
   "cell_type": "code",
   "execution_count": 16,
   "metadata": {},
   "outputs": [
    {
     "data": {
      "text/plain": [
       "3"
      ]
     },
     "execution_count": 16,
     "metadata": {},
     "output_type": "execute_result"
    }
   ],
   "source": [
    "b.nextnode.value"
   ]
  },
  {
   "cell_type": "markdown",
   "metadata": {},
   "source": [
    "### Pros\n",
    "\n",
    "- Linked Lists have constant-time insertions and deletions at any position, in comparison, arrays require $O\\left(n\\right)$ time to the same thing\n",
    "- Linked lists can continue to expand without having to specify their sixe ahead of time.\n",
    "\n",
    "### Cons\n",
    "\n",
    "- To access an element of the linked lists, you need $O\\left(k\\right)$ time to go from the head of the list to the k th element. In contrast, arrays have constant time operatons to access elements in the array."
   ]
  },
  {
   "cell_type": "markdown",
   "metadata": {},
   "source": [
    "### Doubly Linked Lists"
   ]
  },
  {
   "cell_type": "markdown",
   "metadata": {},
   "source": [
    "#### Overview\n",
    "\n",
    "- In a doubly linked list, we define a linked list in which each node keeps an explicit reference to the node before it and a reference to the node after it.\n",
    "- These allows a greater variety of of $O\\left(1\\right)$ update operations, including insertions and deletions.\n",
    "- We continue to use the term next for the reference to the node that follows the other.\n",
    "- We have a new term prev for the reference to the node that precedes it."
   ]
  },
  {
   "cell_type": "markdown",
   "metadata": {},
   "source": [
    "#### Sentinel node"
   ]
  },
  {
   "cell_type": "markdown",
   "metadata": {},
   "source": [
    "- We add special nodes to both ends of the list.\n",
    "- a header node at the start of the list\n",
    "- a trailer node at the end of the list.\n",
    "- These dummy nodes are known as sentinels."
   ]
  },
  {
   "cell_type": "markdown",
   "metadata": {},
   "source": [
    "- Every insertion that into our doubly linked list representation will take place between a pair of existing nodes.\n",
    "- When a new element is inserted at the front of the sequence, we will simply add the new node between the header and the node that is currently after the header."
   ]
  },
  {
   "cell_type": "code",
   "execution_count": 17,
   "metadata": {},
   "outputs": [],
   "source": [
    "class DoublyLinkedList(object):\n",
    "    \n",
    "    def __init__(self, value):\n",
    "        self.value = value\n",
    "        self.next_node = None\n",
    "        self.prev_node = None"
   ]
  },
  {
   "cell_type": "code",
   "execution_count": 19,
   "metadata": {},
   "outputs": [],
   "source": [
    "a = DoublyLinkedList(1)\n",
    "b = DoublyLinkedList(2)\n",
    "c = DoublyLinkedList(3)"
   ]
  },
  {
   "cell_type": "code",
   "execution_count": 20,
   "metadata": {},
   "outputs": [],
   "source": [
    "a.next_node = b\n",
    "b.prev_node = a"
   ]
  },
  {
   "cell_type": "code",
   "execution_count": 21,
   "metadata": {},
   "outputs": [],
   "source": [
    "b.next_node = c\n",
    "c.prev_node = b"
   ]
  },
  {
   "cell_type": "code",
   "execution_count": 22,
   "metadata": {},
   "outputs": [
    {
     "data": {
      "text/plain": [
       "2"
      ]
     },
     "execution_count": 22,
     "metadata": {},
     "output_type": "execute_result"
    }
   ],
   "source": [
    "a.next_node.value"
   ]
  },
  {
   "cell_type": "code",
   "execution_count": 23,
   "metadata": {},
   "outputs": [
    {
     "data": {
      "text/plain": [
       "1"
      ]
     },
     "execution_count": 23,
     "metadata": {},
     "output_type": "execute_result"
    }
   ],
   "source": [
    "b.prev_node.value"
   ]
  },
  {
   "cell_type": "code",
   "execution_count": 25,
   "metadata": {},
   "outputs": [],
   "source": [
    "c.next_node"
   ]
  },
  {
   "cell_type": "code",
   "execution_count": null,
   "metadata": {},
   "outputs": [],
   "source": []
  }
 ],
 "metadata": {
  "kernelspec": {
   "display_name": "Python 3",
   "language": "python",
   "name": "python3"
  },
  "language_info": {
   "codemirror_mode": {
    "name": "ipython",
    "version": 3
   },
   "file_extension": ".py",
   "mimetype": "text/x-python",
   "name": "python",
   "nbconvert_exporter": "python",
   "pygments_lexer": "ipython3",
   "version": "3.6.5"
  }
 },
 "nbformat": 4,
 "nbformat_minor": 2
}
