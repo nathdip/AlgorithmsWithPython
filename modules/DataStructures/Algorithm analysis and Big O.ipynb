{
 "cells": [
  {
   "cell_type": "code",
   "execution_count": 1,
   "metadata": {},
   "outputs": [],
   "source": [
    "import numpy as np\n",
    "import timeit"
   ]
  },
  {
   "cell_type": "code",
   "execution_count": 5,
   "metadata": {},
   "outputs": [],
   "source": [
    "def sum1(n):\n",
    "    \"\"\"\n",
    "    Take a number n gives out the sum from 0 to n\n",
    "    \"\"\"\n",
    "    final_sum = 0\n",
    "    for x in range(n+1):\n",
    "        final_sum+=x\n",
    "    return final_sum"
   ]
  },
  {
   "cell_type": "code",
   "execution_count": 6,
   "metadata": {},
   "outputs": [],
   "source": [
    "def sum2(n):\n",
    "    \"\"\"\n",
    "    Take a number n gives out the sum from 0 to n\n",
    "    \"\"\"\n",
    "    return n*(n+1)/2"
   ]
  },
  {
   "cell_type": "code",
   "execution_count": 8,
   "metadata": {},
   "outputs": [
    {
     "name": "stdout",
     "output_type": "stream",
     "text": [
      "5.47 ms ± 289 µs per loop (mean ± std. dev. of 7 runs, 100 loops each)\n"
     ]
    }
   ],
   "source": [
    "timeit sum1(100000)"
   ]
  },
  {
   "cell_type": "code",
   "execution_count": 9,
   "metadata": {},
   "outputs": [
    {
     "name": "stdout",
     "output_type": "stream",
     "text": [
      "181 ns ± 8.65 ns per loop (mean ± std. dev. of 7 runs, 10000000 loops each)\n"
     ]
    }
   ],
   "source": [
    "timeit sum2(100000)"
   ]
  },
  {
   "cell_type": "markdown",
   "metadata": {},
   "source": [
    "### BIG O notation"
   ]
  },
  {
   "cell_type": "markdown",
   "metadata": {},
   "source": [
    "For sum1 the time taken to complete the calculation is proportional to the number n. \n",
    "\n",
    "Big O notation tells us how fast the runtime will grow with respect to size of the input\n",
    "\n",
    "In generally we only consider the terms which will lead to the fastest growth of runtime\n",
    "\n",
    "| Big O   | Name   |\n",
    "|---------|--------|\n",
    "|   1     |Constant|\n",
    "| $log\\left(n\\right)$ |Logarithmic|\n",
    "| $n$     | Linear|\n",
    "| $n^2$ |Quadratic|\n",
    "| $n^3$ |Cubic|\n",
    "|$e^{n}$|Exponential|"
   ]
  },
  {
   "cell_type": "markdown",
   "metadata": {},
   "source": [
    "### O(1) Constant"
   ]
  },
  {
   "cell_type": "code",
   "execution_count": null,
   "metadata": {},
   "outputs": [],
   "source": []
  }
 ],
 "metadata": {
  "kernelspec": {
   "display_name": "Python 3",
   "language": "python",
   "name": "python3"
  },
  "language_info": {
   "codemirror_mode": {
    "name": "ipython",
    "version": 3
   },
   "file_extension": ".py",
   "mimetype": "text/x-python",
   "name": "python",
   "nbconvert_exporter": "python",
   "pygments_lexer": "ipython3",
   "version": "3.6.5"
  }
 },
 "nbformat": 4,
 "nbformat_minor": 2
}
