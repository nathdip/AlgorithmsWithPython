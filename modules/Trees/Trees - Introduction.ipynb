{
 "cells": [
  {
   "cell_type": "markdown",
   "metadata": {},
   "source": [
    "### Trees\n",
    "\n",
    "- A tree data structure has a root, branches and leaves.\n",
    "- All children of one node are independent of the children of another node.\n",
    "- Each leaf node is unique\n",
    "- Example:\n",
    "    - Folder structure in our computer\n",
    "    - Webpage, tree correspond to html tags\n",
    "\n",
    "#### Node\n",
    "- A node is a fundamental part of a tree, it can have a name, which we call the 'key'.\n",
    "- A node may also have additional information, we call this payload\n",
    "- Payload information may not be central to may tree algorithms, it is often critical in applications that make use of trees\n",
    "\n",
    "#### Edge\n",
    "- An edge is a fundamental part of the tree.\n",
    "- Edge the nodes of the tree and also defines the hierarchy\n",
    "- A PATH is an ordered list of nodes that are connected by edges."
   ]
  },
  {
   "cell_type": "markdown",
   "metadata": {},
   "source": [
    "#### Representing the tree as a list of list"
   ]
  },
  {
   "cell_type": "code",
   "execution_count": null,
   "metadata": {},
   "outputs": [],
   "source": []
  }
 ],
 "metadata": {
  "kernelspec": {
   "display_name": "Python 3",
   "language": "python",
   "name": "python3"
  },
  "language_info": {
   "codemirror_mode": {
    "name": "ipython",
    "version": 3
   },
   "file_extension": ".py",
   "mimetype": "text/x-python",
   "name": "python",
   "nbconvert_exporter": "python",
   "pygments_lexer": "ipython3",
   "version": "3.7.4"
  }
 },
 "nbformat": 4,
 "nbformat_minor": 2
}
